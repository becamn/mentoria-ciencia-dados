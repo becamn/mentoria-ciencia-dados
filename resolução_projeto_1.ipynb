{
 "cells": [
  {
   "cell_type": "markdown",
   "id": "66677aeb",
   "metadata": {},
   "source": [
    "### Resolução Projeto 1_Rebeca ###"
   ]
  },
  {
   "cell_type": "code",
   "execution_count": 1,
   "id": "d1a883bf",
   "metadata": {},
   "outputs": [],
   "source": [
    "data={\n",
    "        'column_A': [1,2,3],\n",
    "        'column_B': [2,6,7],\n",
    "        'column_C': [2,5,6]\n",
    "    }"
   ]
  },
  {
   "cell_type": "code",
   "execution_count": 2,
   "id": "694a6418",
   "metadata": {},
   "outputs": [],
   "source": [
    "class DataFrame_raiz:\n",
    "    \n",
    "    def __init__(self, data):\n",
    "        self.data = data\n",
    "    \n",
    "    def columns_(self):\n",
    "        return list(self.data.keys())\n",
    "    \n",
    "    def shape_(self):\n",
    "        for j in range(len(list(self.data.keys()))+1):\n",
    "            pass\n",
    "        for i in range(len(list(self.data.values()))+1):\n",
    "            pass\n",
    "        print(f\"({i} linhas,\",f\"{j} colunas)\")\n",
    "\n",
    "    def T_(self):\n",
    "        data_dict = {}\n",
    "        for row in range(len(list(self.data.values())[0])):    \n",
    "            row_name = f'{row}'    \n",
    "            column = []    \n",
    "            for el in list(self.data.values()):\n",
    "                column.append(el[row])\n",
    "                data_dict.update({row_name: column})\n",
    "        print(data_dict)\n",
    "    \n",
    "    def sum_(self, axis=0):\n",
    "        if axis==0:\n",
    "            for j in range(len(list(self.data.values()))):\n",
    "                sum_column = 0\n",
    "                for i in range(len(self.data)):\n",
    "                    sum_column += list(self.data.values())[j][i]\n",
    "                print(list(data.keys())[j], sum_column)\n",
    "        elif axis==1:\n",
    "            for j in range(len(list(self.data.values()))):\n",
    "                sum_row = 0\n",
    "                for i in range(len(self.data)):\n",
    "                    sum_row += list(self.data.values())[i][j]\n",
    "                print(j, sum_row)\n",
    "    \n",
    "    def rename_(self, data1):\n",
    "        for j in range(len(list(self.data.keys()))):\n",
    "            if list(data1.keys())[0] == list(self.data.keys())[j]:\n",
    "                print(list(data1.values())[0])\n",
    "            else: \n",
    "                print(list(self.data.keys())[j])\n",
    "            for i in range(len(list(self.data.values()))):\n",
    "                print(list(self.data.values())[j][i])\n",
    "                \n",
    "    def mean_(self, axis=0):\n",
    "        if axis==0:\n",
    "            for j in range(len(list(self.data.values()))):\n",
    "                sum_column = 0\n",
    "                cont = 0\n",
    "                for i in range(len(self.data)):\n",
    "                    cont += 1\n",
    "                    sum_column += list(self.data.values())[j][i]\n",
    "                mean_column = sum_column/cont\n",
    "                print(list(self.data.keys())[j], mean_column)\n",
    "        elif axis==1:\n",
    "            for j in range(len(list(self.data.values()))):\n",
    "                sum_row = 0\n",
    "                cont = 0\n",
    "                for i in range(len(self.data)):\n",
    "                    cont += 1\n",
    "                    sum_row += list(self.data.values())[i][j]\n",
    "                mean_column = sum_row/cont\n",
    "                print(j, mean_column)\n",
    "    \n",
    "    def median_(self, axis=0):\n",
    "        if axis==0:\n",
    "            x = len(list(self.data.values()))\n",
    "            if x % 2 == 0:\n",
    "                for j in range(len(list(self.data.values()))):\n",
    "                    columns = []\n",
    "                    for i in range(len(self.data)):\n",
    "                        columns.append(list(self.data.values())[j][i])\n",
    "                    print(list(self.data.keys())[j], (columns[x]+columns[x+1])/2)\n",
    "            else:\n",
    "                for j in range(len(list(self.data.values()))):\n",
    "                    columns = []\n",
    "                    y = int(x/2)\n",
    "                    for i in range(len(self.data)):\n",
    "                        columns.append(list(self.data.values())[j][i])\n",
    "                    print(list(self.data.keys())[j], columns[y])\n",
    "        elif axis==1:\n",
    "            x = len(list(self.data.values()))\n",
    "            if x % 2 == 0:\n",
    "                for j in range(len(list(self.data.values()))):\n",
    "                    columns = []\n",
    "                    for i in range(len(self.data)):\n",
    "                        columns.append(list(self.data.values())[i][j])\n",
    "                    print(list(self.data.keys())[j], (columns[x]+columns[x+1])/2)\n",
    "            else:\n",
    "                for j in range(len(list(self.data.values()))):\n",
    "                    columns = []\n",
    "                    y = int(x/2)\n",
    "                    for i in range(len(self.data)):\n",
    "                        columns.append(list(self.data.values())[i][j])\n",
    "                    print(list(self.data.keys())[j], columns[y])\n",
    "    \n",
    "    def head_(self): \n",
    "        for j in range(len(list(self.data.keys()))):\n",
    "            print(list(self.data.keys())[j])\n",
    "            for i in range(len(list(self.data.values()))):\n",
    "                print(list(self.data.values())[j][i])\n",
    "                \n",
    "    def drop_(self, columns):\n",
    "        self.data.pop(columns)\n",
    "        for j in range(len(list(self.data.keys()))):\n",
    "            print(list(self.data.keys())[j])\n",
    "            for i in range(len(list(self.data.values()))+1):\n",
    "                print(list(self.data.values())[j][i])"
   ]
  },
  {
   "cell_type": "code",
   "execution_count": 3,
   "id": "e31248ce",
   "metadata": {},
   "outputs": [],
   "source": [
    "df = DataFrame_raiz(data)"
   ]
  },
  {
   "cell_type": "code",
   "execution_count": 4,
   "id": "9d6d1336",
   "metadata": {},
   "outputs": [
    {
     "data": {
      "text/plain": [
       "['column_A', 'column_B', 'column_C']"
      ]
     },
     "execution_count": 4,
     "metadata": {},
     "output_type": "execute_result"
    }
   ],
   "source": [
    "df.columns_()"
   ]
  },
  {
   "cell_type": "code",
   "execution_count": 5,
   "id": "e8704150",
   "metadata": {},
   "outputs": [
    {
     "name": "stdout",
     "output_type": "stream",
     "text": [
      "(3 linhas, 3 colunas)\n"
     ]
    }
   ],
   "source": [
    "df.shape_()"
   ]
  },
  {
   "cell_type": "code",
   "execution_count": 6,
   "id": "455215be",
   "metadata": {},
   "outputs": [
    {
     "name": "stdout",
     "output_type": "stream",
     "text": [
      "{'0': [1, 2, 2], '1': [2, 6, 5], '2': [3, 7, 6]}\n"
     ]
    }
   ],
   "source": [
    "df.T_()"
   ]
  },
  {
   "cell_type": "markdown",
   "id": "0b78d189",
   "metadata": {},
   "source": [
    "### 01 - Método soma: ###"
   ]
  },
  {
   "cell_type": "code",
   "execution_count": 7,
   "id": "7beef73e",
   "metadata": {},
   "outputs": [
    {
     "name": "stdout",
     "output_type": "stream",
     "text": [
      "column_A 6\n",
      "column_B 15\n",
      "column_C 13\n"
     ]
    }
   ],
   "source": [
    "df.sum_()"
   ]
  },
  {
   "cell_type": "code",
   "execution_count": 8,
   "id": "c1e0938e",
   "metadata": {},
   "outputs": [
    {
     "name": "stdout",
     "output_type": "stream",
     "text": [
      "0 5\n",
      "1 13\n",
      "2 16\n"
     ]
    }
   ],
   "source": [
    "df.sum_(axis=1)"
   ]
  },
  {
   "cell_type": "markdown",
   "id": "fd84cdea",
   "metadata": {},
   "source": [
    "### 02 - Método rename columns: ###"
   ]
  },
  {
   "cell_type": "code",
   "execution_count": 9,
   "id": "a1647675",
   "metadata": {},
   "outputs": [
    {
     "name": "stdout",
     "output_type": "stream",
     "text": [
      "teste\n",
      "1\n",
      "2\n",
      "3\n",
      "column_B\n",
      "2\n",
      "6\n",
      "7\n",
      "column_C\n",
      "2\n",
      "5\n",
      "6\n"
     ]
    }
   ],
   "source": [
    "df.rename_({'column_A':'teste'})"
   ]
  },
  {
   "cell_type": "markdown",
   "id": "d640c0c0",
   "metadata": {},
   "source": [
    "### 03 - Método média: ###"
   ]
  },
  {
   "cell_type": "code",
   "execution_count": 10,
   "id": "23b3cefe",
   "metadata": {},
   "outputs": [
    {
     "name": "stdout",
     "output_type": "stream",
     "text": [
      "column_A 2.0\n",
      "column_B 5.0\n",
      "column_C 4.333333333333333\n"
     ]
    }
   ],
   "source": [
    "df.mean_()"
   ]
  },
  {
   "cell_type": "code",
   "execution_count": 11,
   "id": "52453b4e",
   "metadata": {},
   "outputs": [
    {
     "name": "stdout",
     "output_type": "stream",
     "text": [
      "0 1.6666666666666667\n",
      "1 4.333333333333333\n",
      "2 5.333333333333333\n"
     ]
    }
   ],
   "source": [
    "df.mean_(axis=1)"
   ]
  },
  {
   "cell_type": "markdown",
   "id": "6ba6353c",
   "metadata": {},
   "source": [
    "### 04 - Método mediana: ###"
   ]
  },
  {
   "cell_type": "code",
   "execution_count": 12,
   "id": "0e36c6e4",
   "metadata": {},
   "outputs": [
    {
     "name": "stdout",
     "output_type": "stream",
     "text": [
      "column_A 2\n",
      "column_B 6\n",
      "column_C 5\n"
     ]
    }
   ],
   "source": [
    "df.median_()"
   ]
  },
  {
   "cell_type": "code",
   "execution_count": 13,
   "id": "54139a55",
   "metadata": {},
   "outputs": [
    {
     "name": "stdout",
     "output_type": "stream",
     "text": [
      "column_A 2\n",
      "column_B 6\n",
      "column_C 7\n"
     ]
    }
   ],
   "source": [
    "df.median_(axis=1)"
   ]
  },
  {
   "cell_type": "markdown",
   "id": "bef6e3ef",
   "metadata": {},
   "source": [
    "### 05 - Método head ### "
   ]
  },
  {
   "cell_type": "code",
   "execution_count": 14,
   "id": "ab8dab4c",
   "metadata": {},
   "outputs": [
    {
     "name": "stdout",
     "output_type": "stream",
     "text": [
      "column_A\n",
      "1\n",
      "2\n",
      "3\n",
      "column_B\n",
      "2\n",
      "6\n",
      "7\n",
      "column_C\n",
      "2\n",
      "5\n",
      "6\n"
     ]
    }
   ],
   "source": [
    "df.head_()"
   ]
  },
  {
   "cell_type": "markdown",
   "id": "41d299e9",
   "metadata": {},
   "source": [
    "### 06 - Método drop ### "
   ]
  },
  {
   "cell_type": "code",
   "execution_count": 15,
   "id": "f1f5ddf8",
   "metadata": {},
   "outputs": [
    {
     "name": "stdout",
     "output_type": "stream",
     "text": [
      "column_A\n",
      "1\n",
      "2\n",
      "3\n",
      "column_B\n",
      "2\n",
      "6\n",
      "7\n"
     ]
    }
   ],
   "source": [
    "df.drop_('column_C')"
   ]
  }
 ],
 "metadata": {
  "kernelspec": {
   "display_name": "Python 3 (ipykernel)",
   "language": "python",
   "name": "python3"
  },
  "language_info": {
   "codemirror_mode": {
    "name": "ipython",
    "version": 3
   },
   "file_extension": ".py",
   "mimetype": "text/x-python",
   "name": "python",
   "nbconvert_exporter": "python",
   "pygments_lexer": "ipython3",
   "version": "3.9.13"
  }
 },
 "nbformat": 4,
 "nbformat_minor": 5
}
